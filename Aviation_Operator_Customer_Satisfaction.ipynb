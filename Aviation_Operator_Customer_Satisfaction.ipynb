{
  "cells": [
    {
      "cell_type": "markdown",
      "metadata": {
        "id": "view-in-github",
        "colab_type": "text"
      },
      "source": [
        "<a href=\"https://colab.research.google.com/github/minhazulamin1/Irish-Hospital-Patient-Waiting-Dashboard-2021-2023/blob/main/Aviation_Operator_Customer_Satisfaction.ipynb\" target=\"_parent\"><img src=\"https://colab.research.google.com/assets/colab-badge.svg\" alt=\"Open In Colab\"/></a>"
      ]
    },
    {
      "cell_type": "code",
      "source": [
        "from google.colab import drive\n",
        "drive.mount('/content/drive')"
      ],
      "metadata": {
        "colab": {
          "base_uri": "https://localhost:8080/"
        },
        "id": "nOys7nJr5Fid",
        "outputId": "ef61b768-df8c-4992-c93e-8ad05c888a06"
      },
      "execution_count": null,
      "outputs": [
        {
          "output_type": "stream",
          "name": "stdout",
          "text": [
            "Mounted at /content/drive\n"
          ]
        }
      ]
    },
    {
      "cell_type": "code",
      "source": [
        "import numpy as np\n",
        "import pandas as pd\n",
        "from sklearn.preprocessing import StandardScaler\n",
        "from sklearn.model_selection import train_test_split, GridSearchCV\n",
        "from imblearn.over_sampling import SMOTE\n",
        "from sklearn.linear_model import SGDClassifier\n",
        "from imblearn.pipeline import Pipeline\n",
        "from imblearn.pipeline import Pipeline as ImbPipeline\n",
        "from imblearn.pipeline import make_pipeline\n",
        "from sklearn.ensemble import AdaBoostClassifier\n",
        "from sklearn.ensemble import RandomForestClassifier\n",
        "from sklearn.metrics import precision_score, recall_score, f1_score\n",
        "from sklearn.svm import LinearSVC\n",
        "from sklearn.neighbors import KNeighborsClassifier\n",
        "# import warnings\n",
        "# warnings.filterwarnings(\"ignore\", category=FutureWarning)\n",
        "# from sklearn.exceptions import ConvergenceWarning\n",
        "# warnings.filterwarnings(\"ignore\", category=ConvergenceWarning)\n",
        "# from sklearn.exceptions import UndefinedMetricWarning\n",
        "# warnings.filterwarnings(\"ignore\", category=UndefinedMetricWarning)"
      ],
      "metadata": {
        "id": "ApeX1V15ELrF"
      },
      "execution_count": null,
      "outputs": []
    },
    {
      "cell_type": "code",
      "execution_count": null,
      "metadata": {
        "colab": {
          "base_uri": "https://localhost:8080/"
        },
        "id": "pGp6dsMej3g1",
        "outputId": "ac486bd4-75bd-4d53-80c1-054fbb527ae9"
      },
      "outputs": [
        {
          "output_type": "stream",
          "name": "stdout",
          "text": [
            "   Unnamed: 0      id  Gender      Customer Type  Age   Type of Travel  \\\n",
            "0           0   70172    Male     Loyal Customer   13  Personal Travel   \n",
            "1           1    5047    Male  disloyal Customer   25  Business travel   \n",
            "2           2  110028  Female     Loyal Customer   26  Business travel   \n",
            "3           3   24026  Female     Loyal Customer   25  Business travel   \n",
            "4           4  119299    Male     Loyal Customer   61  Business travel   \n",
            "\n",
            "      Class  Flight Distance  Inflight wifi service  \\\n",
            "0  Eco Plus              460                      3   \n",
            "1  Business              235                      3   \n",
            "2  Business             1142                      2   \n",
            "3  Business              562                      2   \n",
            "4  Business              214                      3   \n",
            "\n",
            "   Departure/Arrival time convenient  Ease of Online booking  Gate location  \\\n",
            "0                                  4                       3              1   \n",
            "1                                  2                       3              3   \n",
            "2                                  2                       2              2   \n",
            "3                                  5                       5              5   \n",
            "4                                  3                       3              3   \n",
            "\n",
            "   Food and drink  Online boarding  Seat comfort  Inflight entertainment  \\\n",
            "0               5                3             5                       5   \n",
            "1               1                3             1                       1   \n",
            "2               5                5             5                       5   \n",
            "3               2                2             2                       2   \n",
            "4               4                5             5                       3   \n",
            "\n",
            "   On-board service  Leg room service  Baggage handling  Checkin service  \\\n",
            "0                 4                 3                 4                4   \n",
            "1                 1                 5                 3                1   \n",
            "2                 4                 3                 4                4   \n",
            "3                 2                 5                 3                1   \n",
            "4                 3                 4                 4                3   \n",
            "\n",
            "   Inflight service  Cleanliness  Departure Delay in Minutes  \\\n",
            "0                 5            5                          25   \n",
            "1                 4            1                           1   \n",
            "2                 4            5                           0   \n",
            "3                 4            2                          11   \n",
            "4                 3            3                           0   \n",
            "\n",
            "   Arrival Delay in Minutes             satisfaction  \n",
            "0                      18.0  neutral or dissatisfied  \n",
            "1                       6.0  neutral or dissatisfied  \n",
            "2                       0.0                satisfied  \n",
            "3                       9.0  neutral or dissatisfied  \n",
            "4                       0.0                satisfied  \n",
            "(103904, 25)\n",
            "<class 'pandas.core.frame.DataFrame'>\n",
            "RangeIndex: 103904 entries, 0 to 103903\n",
            "Data columns (total 25 columns):\n",
            " #   Column                             Non-Null Count   Dtype  \n",
            "---  ------                             --------------   -----  \n",
            " 0   Unnamed: 0                         103904 non-null  int64  \n",
            " 1   id                                 103904 non-null  int64  \n",
            " 2   Gender                             103904 non-null  object \n",
            " 3   Customer Type                      103904 non-null  object \n",
            " 4   Age                                103904 non-null  int64  \n",
            " 5   Type of Travel                     103904 non-null  object \n",
            " 6   Class                              103904 non-null  object \n",
            " 7   Flight Distance                    103904 non-null  int64  \n",
            " 8   Inflight wifi service              103904 non-null  int64  \n",
            " 9   Departure/Arrival time convenient  103904 non-null  int64  \n",
            " 10  Ease of Online booking             103904 non-null  int64  \n",
            " 11  Gate location                      103904 non-null  int64  \n",
            " 12  Food and drink                     103904 non-null  int64  \n",
            " 13  Online boarding                    103904 non-null  int64  \n",
            " 14  Seat comfort                       103904 non-null  int64  \n",
            " 15  Inflight entertainment             103904 non-null  int64  \n",
            " 16  On-board service                   103904 non-null  int64  \n",
            " 17  Leg room service                   103904 non-null  int64  \n",
            " 18  Baggage handling                   103904 non-null  int64  \n",
            " 19  Checkin service                    103904 non-null  int64  \n",
            " 20  Inflight service                   103904 non-null  int64  \n",
            " 21  Cleanliness                        103904 non-null  int64  \n",
            " 22  Departure Delay in Minutes         103904 non-null  int64  \n",
            " 23  Arrival Delay in Minutes           103594 non-null  float64\n",
            " 24  satisfaction                       103904 non-null  object \n",
            "dtypes: float64(1), int64(19), object(5)\n",
            "memory usage: 19.8+ MB\n",
            "None\n",
            "          Unnamed: 0             id            Age  Flight Distance  \\\n",
            "count  103904.000000  103904.000000  103904.000000    103904.000000   \n",
            "mean    51951.500000   64924.210502      39.379706      1189.448375   \n",
            "std     29994.645522   37463.812252      15.114964       997.147281   \n",
            "min         0.000000       1.000000       7.000000        31.000000   \n",
            "25%     25975.750000   32533.750000      27.000000       414.000000   \n",
            "50%     51951.500000   64856.500000      40.000000       843.000000   \n",
            "75%     77927.250000   97368.250000      51.000000      1743.000000   \n",
            "max    103903.000000  129880.000000      85.000000      4983.000000   \n",
            "\n",
            "       Inflight wifi service  Departure/Arrival time convenient  \\\n",
            "count          103904.000000                      103904.000000   \n",
            "mean                2.729683                           3.060296   \n",
            "std                 1.327829                           1.525075   \n",
            "min                 0.000000                           0.000000   \n",
            "25%                 2.000000                           2.000000   \n",
            "50%                 3.000000                           3.000000   \n",
            "75%                 4.000000                           4.000000   \n",
            "max                 5.000000                           5.000000   \n",
            "\n",
            "       Ease of Online booking  Gate location  Food and drink  Online boarding  \\\n",
            "count           103904.000000  103904.000000   103904.000000    103904.000000   \n",
            "mean                 2.756901       2.976883        3.202129         3.250375   \n",
            "std                  1.398929       1.277621        1.329533         1.349509   \n",
            "min                  0.000000       0.000000        0.000000         0.000000   \n",
            "25%                  2.000000       2.000000        2.000000         2.000000   \n",
            "50%                  3.000000       3.000000        3.000000         3.000000   \n",
            "75%                  4.000000       4.000000        4.000000         4.000000   \n",
            "max                  5.000000       5.000000        5.000000         5.000000   \n",
            "\n",
            "        Seat comfort  Inflight entertainment  On-board service  \\\n",
            "count  103904.000000           103904.000000     103904.000000   \n",
            "mean        3.439396                3.358158          3.382363   \n",
            "std         1.319088                1.332991          1.288354   \n",
            "min         0.000000                0.000000          0.000000   \n",
            "25%         2.000000                2.000000          2.000000   \n",
            "50%         4.000000                4.000000          4.000000   \n",
            "75%         5.000000                4.000000          4.000000   \n",
            "max         5.000000                5.000000          5.000000   \n",
            "\n",
            "       Leg room service  Baggage handling  Checkin service  Inflight service  \\\n",
            "count     103904.000000     103904.000000    103904.000000     103904.000000   \n",
            "mean           3.351055          3.631833         3.304290          3.640428   \n",
            "std            1.315605          1.180903         1.265396          1.175663   \n",
            "min            0.000000          1.000000         0.000000          0.000000   \n",
            "25%            2.000000          3.000000         3.000000          3.000000   \n",
            "50%            4.000000          4.000000         3.000000          4.000000   \n",
            "75%            4.000000          5.000000         4.000000          5.000000   \n",
            "max            5.000000          5.000000         5.000000          5.000000   \n",
            "\n",
            "         Cleanliness  Departure Delay in Minutes  Arrival Delay in Minutes  \n",
            "count  103904.000000               103904.000000             103594.000000  \n",
            "mean        3.286351                   14.815618                 15.178678  \n",
            "std         1.312273                   38.230901                 38.698682  \n",
            "min         0.000000                    0.000000                  0.000000  \n",
            "25%         2.000000                    0.000000                  0.000000  \n",
            "50%         3.000000                    0.000000                  0.000000  \n",
            "75%         4.000000                   12.000000                 13.000000  \n",
            "max         5.000000                 1592.000000               1584.000000  \n"
          ]
        }
      ],
      "source": [
        "# Dataset Import and Investigation\n",
        "dataset = pd.read_csv(\"/content/drive/MyDrive/Data Mining/CA 1/Aviation Operator.csv\")\n",
        "pd.set_option('display.max_columns', None)\n",
        "print(dataset.head())\n",
        "print(dataset.shape)\n",
        "print(dataset.info())\n",
        "print(dataset.describe())"
      ]
    },
    {
      "cell_type": "code",
      "execution_count": null,
      "metadata": {
        "colab": {
          "base_uri": "https://localhost:8080/"
        },
        "id": "ZbLWpo1eBD3P",
        "outputId": "d7532362-58f4-456d-c895-97248767297b"
      },
      "outputs": [
        {
          "output_type": "stream",
          "name": "stdout",
          "text": [
            "<class 'pandas.core.frame.DataFrame'>\n",
            "RangeIndex: 103904 entries, 0 to 103903\n",
            "Data columns (total 25 columns):\n",
            " #   Column                             Non-Null Count   Dtype  \n",
            "---  ------                             --------------   -----  \n",
            " 0   Unnamed: 0                         103904 non-null  int64  \n",
            " 1   id                                 103904 non-null  int64  \n",
            " 2   Gender                             103904 non-null  int64  \n",
            " 3   Customer Type                      103904 non-null  int64  \n",
            " 4   Age                                103904 non-null  int64  \n",
            " 5   Type of Travel                     103904 non-null  int64  \n",
            " 6   Class                              103904 non-null  int64  \n",
            " 7   Flight Distance                    103904 non-null  int64  \n",
            " 8   Inflight wifi service              103904 non-null  int64  \n",
            " 9   Departure/Arrival time convenient  103904 non-null  int64  \n",
            " 10  Ease of Online booking             103904 non-null  int64  \n",
            " 11  Gate location                      103904 non-null  int64  \n",
            " 12  Food and drink                     103904 non-null  int64  \n",
            " 13  Online boarding                    103904 non-null  int64  \n",
            " 14  Seat comfort                       103904 non-null  int64  \n",
            " 15  Inflight entertainment             103904 non-null  int64  \n",
            " 16  On-board service                   103904 non-null  int64  \n",
            " 17  Leg room service                   103904 non-null  int64  \n",
            " 18  Baggage handling                   103904 non-null  int64  \n",
            " 19  Checkin service                    103904 non-null  int64  \n",
            " 20  Inflight service                   103904 non-null  int64  \n",
            " 21  Cleanliness                        103904 non-null  int64  \n",
            " 22  Departure Delay in Minutes         103904 non-null  int64  \n",
            " 23  Arrival Delay in Minutes           103904 non-null  float64\n",
            " 24  satisfaction                       103904 non-null  int64  \n",
            "dtypes: float64(1), int64(24)\n",
            "memory usage: 19.8 MB\n",
            "None\n",
            "   Unnamed: 0     id  Gender  Customer Type  Age  Type of Travel  Class  \\\n",
            "0           0  70172       1              1   13               0      1   \n",
            "1           1   5047       1              0   25               1      0   \n",
            "\n",
            "   Flight Distance  Inflight wifi service  Departure/Arrival time convenient  \\\n",
            "0              460                      3                                  4   \n",
            "1              235                      3                                  2   \n",
            "\n",
            "   Ease of Online booking  Gate location  Food and drink  Online boarding  \\\n",
            "0                       3              1               5                3   \n",
            "1                       3              3               1                3   \n",
            "\n",
            "   Seat comfort  Inflight entertainment  On-board service  Leg room service  \\\n",
            "0             5                       5                 4                 3   \n",
            "1             1                       1                 1                 5   \n",
            "\n",
            "   Baggage handling  Checkin service  Inflight service  Cleanliness  \\\n",
            "0                 4                4                 5            5   \n",
            "1                 3                1                 4            1   \n",
            "\n",
            "   Departure Delay in Minutes  Arrival Delay in Minutes  satisfaction  \n",
            "0                          25                      18.0             1  \n",
            "1                           1                       6.0             1  \n"
          ]
        }
      ],
      "source": [
        "# Categorical Data Conversion to Numerical Data\n",
        "dataset['Gender'] = dataset['Gender'].map({'Male':1, 'Female':0})\n",
        "dataset['Customer Type'] = dataset['Customer Type'].map({'Loyal Customer':1, 'disloyal Customer':0})\n",
        "dataset['Type of Travel'] = dataset['Type of Travel'].map({'Business travel':1, 'Personal Travel':0})\n",
        "dataset['Class'] = dataset['Class'].map({'Business':0, 'Eco Plus':1, 'Eco':2})\n",
        "dataset['satisfaction'] = dataset['satisfaction'].map({'neutral or dissatisfied':1, 'satisfied':0})\n",
        "# Missing value handling through using median for simplicity)\n",
        "dataset['Arrival Delay in Minutes'].fillna(dataset['Arrival Delay in Minutes'].median(), inplace=True)\n",
        "print(dataset.info())\n",
        "print(dataset.head(2))"
      ]
    },
    {
      "cell_type": "code",
      "execution_count": null,
      "metadata": {
        "colab": {
          "base_uri": "https://localhost:8080/"
        },
        "id": "ABhiV0cCFQi_",
        "outputId": "0928e9a2-2fc9-4471-917c-876af03fbb91"
      },
      "outputs": [
        {
          "output_type": "stream",
          "name": "stdout",
          "text": [
            "Class Distribution in Training Set:\n",
            " 1    0.565475\n",
            "0    0.434525\n",
            "Name: satisfaction, dtype: float64\n"
          ]
        }
      ],
      "source": [
        "# Dividing dataset into features and labels\n",
        "X = dataset.drop(['satisfaction', 'Gate location', 'Unnamed: 0', 'id'], axis=1)  # Features\n",
        "Y = dataset['satisfaction']  # Labels\n",
        "\n",
        "# Splitting the data into training and testing sets\n",
        "X_train, X_test, Y_train, Y_test = train_test_split(X, Y, test_size=0.2, random_state=1)\n",
        "\n",
        "# Feature Scaling\n",
        "scaler = StandardScaler()\n",
        "X_train_scaled = scaler.fit_transform(X_train)\n",
        "X_test_scaled = scaler.transform(X_test)  # Notice that we only transform the test set\n",
        "\n",
        "# Distribution of the target variable 'satisfaction'\n",
        "class_distribution = Y_train.value_counts(normalize=True)\n",
        "print(\"Class Distribution in Training Set:\\n\", class_distribution)"
      ]
    },
    {
      "cell_type": "code",
      "execution_count": null,
      "metadata": {
        "colab": {
          "base_uri": "https://localhost:8080/"
        },
        "id": "pI4wvVkLXzfi",
        "outputId": "42adb058-43b7-43dc-927c-8aaa2fe5a502"
      },
      "outputs": [
        {
          "output_type": "stream",
          "name": "stdout",
          "text": [
            "Best Parameters: {'classification__alpha': 0.001, 'classification__eta0': 0.001, 'classification__l1_ratio': 0.5, 'classification__max_iter': 1000}\n",
            "Precision: 0.8937\n",
            "Recall: 0.8782\n",
            "F1-Score: 0.8859\n"
          ]
        }
      ],
      "source": [
        "#Logistic Regression\n",
        "\n",
        "# Define the pipeline with SMOTE and SGDClassifier\n",
        "model = ImbPipeline([\n",
        "        ('balancing', SMOTE(random_state=101)),\n",
        "        ('classification', SGDClassifier(loss='log_loss', penalty='elasticnet', random_state=1))\n",
        "])\n",
        "\n",
        "# Define the grid parameters\n",
        "grid_param = {\n",
        "    'classification__eta0': [0.001, 0.0005],\n",
        "    'classification__max_iter': [1000, 1500],\n",
        "    'classification__alpha': [0.001, 0.1],\n",
        "    'classification__l1_ratio': [0.5, 1]\n",
        "}\n",
        "\n",
        "# Define scoring metrics\n",
        "scoring_metrics = {'precision': 'precision', 'recall': 'recall', 'f1': 'f1'}\n",
        "\n",
        "# Initialize GridSearchCV\n",
        "gd_sr = GridSearchCV(estimator=model, param_grid=grid_param, scoring=scoring_metrics, refit='f1', cv=5)\n",
        "\n",
        "# Scale the features (assuming X_train and Y_train have been defined)\n",
        "scaler = StandardScaler()\n",
        "X_train_scaled = scaler.fit_transform(X_train)\n",
        "X_test_scaled = scaler.transform(X_test)\n",
        "\n",
        "# Fit the model using the scaled training data and the correct labels\n",
        "gd_sr.fit(X_train_scaled, Y_train)\n",
        "\n",
        "# Get the best parameters and the best model\n",
        "best_parameters = gd_sr.best_params_\n",
        "best_model = gd_sr.best_estimator_\n",
        "\n",
        "# Predict on the scaled test data\n",
        "y_pred = best_model.predict(X_test_scaled)\n",
        "\n",
        "# Calculate evaluation metrics\n",
        "precision = precision_score(Y_test, y_pred)\n",
        "recall = recall_score(Y_test, y_pred)\n",
        "f1 = f1_score(Y_test, y_pred)\n",
        "\n",
        "# Print the best parameter\n",
        "print(\"Best Parameters:\", gd_sr.best_params_)\n",
        "\n",
        "# Print the evaluation metrics\n",
        "print(f\"Precision: {precision:.4f}\")\n",
        "print(f\"Recall: {recall:.4f}\")\n",
        "print(f\"F1-Score: {f1:.4f}\")\n"
      ]
    },
    {
      "cell_type": "code",
      "execution_count": null,
      "metadata": {
        "colab": {
          "base_uri": "https://localhost:8080/"
        },
        "id": "P3htYFJ1LJ61",
        "outputId": "7db3ebfb-22c0-4b22-e39b-9597166b9b52"
      },
      "outputs": [
        {
          "output_type": "stream",
          "name": "stdout",
          "text": [
            "Best Parameters: {'classification__n_estimators': 110}\n",
            "Best Precision Score: 0.9193782847457034\n",
            "Precision: 0.9191\n",
            "Recall: 0.9167\n",
            "F1-Score: 0.9179\n",
            "Age                                  0.100000\n",
            "Seat comfort                         0.081818\n",
            "Inflight wifi service                0.081818\n",
            "Departure/Arrival time convenient    0.081818\n",
            "Online boarding                      0.072727\n",
            "Leg room service                     0.072727\n",
            "Cleanliness                          0.054545\n",
            "Checkin service                      0.054545\n",
            "Inflight service                     0.054545\n",
            "Ease of Online booking               0.054545\n",
            "Customer Type                        0.045455\n",
            "Inflight entertainment               0.045455\n",
            "Baggage handling                     0.045455\n",
            "Type of Travel                       0.045455\n",
            "Flight Distance                      0.036364\n",
            "On-board service                     0.027273\n",
            "Class                                0.018182\n",
            "Food and drink                       0.018182\n",
            "Arrival Delay in Minutes             0.009091\n",
            "Departure Delay in Minutes           0.000000\n",
            "Gender                               0.000000\n",
            "dtype: float64\n"
          ]
        }
      ],
      "source": [
        "#Adaboost\n",
        "\n",
        "# Set up AdaBoost with SMOTE in a pipeline\n",
        "model = ImbPipeline([\n",
        "        ('balancing', SMOTE(random_state=101)),\n",
        "        ('classification', AdaBoostClassifier(random_state=1))\n",
        "])\n",
        "\n",
        "# Define the grid search parameters\n",
        "grid_param = {\n",
        "    'classification__n_estimators': [80, 90, 100, 110, 120]\n",
        "}\n",
        "\n",
        "# Define scoring metrics\n",
        "scoring_metrics = {'precision': 'precision', 'recall': 'recall', 'f1': 'f1'}\n",
        "\n",
        "# Initialize GridSearchCV with multiple scoring metrics and refit set to 'precision'\n",
        "gd_sr = GridSearchCV(estimator=model, param_grid=grid_param, scoring=scoring_metrics, refit='precision', cv=3)\n",
        "\n",
        "# Fit the GridSearchCV to find the best hyperparameters\n",
        "gd_sr.fit(X_train_scaled, Y_train)\n",
        "\n",
        "# Print the best parameters and the best precision score\n",
        "print(\"Best Parameters:\", gd_sr.best_params_)\n",
        "print(\"Best Precision Score:\", gd_sr.best_score_)\n",
        "\n",
        "# Use the best estimator to predict on the test data\n",
        "best_model = gd_sr.best_estimator_\n",
        "Y_pred = best_model.predict(X_test_scaled)\n",
        "\n",
        "# Calculate precision, recall, and F1-score\n",
        "precision = precision_score(Y_test, Y_pred)\n",
        "recall = recall_score(Y_test, Y_pred)\n",
        "f1 = f1_score(Y_test, Y_pred)\n",
        "\n",
        "# Print the evaluation metrics\n",
        "print(f\"Precision: {precision:.4f}\")\n",
        "print(f\"Recall: {recall:.4f}\")\n",
        "print(f\"F1-Score: {f1:.4f}\")\n",
        "\n",
        "# Get feature importances from the best model\n",
        "feature_importances = best_model.named_steps['classification'].feature_importances_\n",
        "featimp = pd.Series(feature_importances, index=X_train.columns).sort_values(ascending=False)\n",
        "print(featimp)"
      ]
    },
    {
      "cell_type": "code",
      "execution_count": null,
      "metadata": {
        "id": "WqAsRzT13aDn",
        "colab": {
          "base_uri": "https://localhost:8080/"
        },
        "outputId": "6d7059bb-eaf2-4554-a20f-d9775bfaa490"
      },
      "outputs": [
        {
          "output_type": "stream",
          "name": "stdout",
          "text": [
            "Best Parameters: {'classification__n_estimators': 3000}\n",
            "Best Precision Score: 0.9698\n",
            "Best Recall Score: 0.9407\n",
            "Best F1 Score: 0.9550\n",
            "Online boarding                      0.165953\n",
            "Inflight wifi service                0.159061\n",
            "Type of Travel                       0.092348\n",
            "Class                                0.084703\n",
            "Inflight entertainment               0.049311\n",
            "Ease of Online booking               0.046072\n",
            "Seat comfort                         0.044661\n",
            "Leg room service                     0.039568\n",
            "Customer Type                        0.037521\n",
            "Flight Distance                      0.037052\n",
            "Age                                  0.036682\n",
            "On-board service                     0.032492\n",
            "Baggage handling                     0.028092\n",
            "Checkin service                      0.028083\n",
            "Cleanliness                          0.025950\n",
            "Inflight service                     0.025889\n",
            "Departure/Arrival time convenient    0.020493\n",
            "Arrival Delay in Minutes             0.014631\n",
            "Food and drink                       0.013416\n",
            "Departure Delay in Minutes           0.012937\n",
            "Gender                               0.005084\n",
            "dtype: float64\n"
          ]
        }
      ],
      "source": [
        "#RFC\n",
        "\n",
        "# Setting up the pipeline with SMOTE and RandomForestClassifier\n",
        "model = ImbPipeline([\n",
        "    ('balancing', SMOTE(random_state=101)),\n",
        "    ('classification', RandomForestClassifier(criterion='entropy', max_features='sqrt', random_state=1))\n",
        "])\n",
        "\n",
        "# Defining the grid of parameters to search\n",
        "grid_param = {\n",
        "    'classification__n_estimators': [1000, 3000, 5000]\n",
        "}\n",
        "\n",
        "# Scoring metrics defining\n",
        "scoring_metrics = {\n",
        "    'precision': 'precision',\n",
        "    'recall': 'recall',\n",
        "    'f1': 'f1'\n",
        "}\n",
        "\n",
        "# Setting up the grid search with cross-validation\n",
        "gd_sr = GridSearchCV(estimator=model, param_grid=grid_param, scoring=scoring_metrics, refit='f1', cv=5, return_train_score=True)\n",
        "\n",
        "# Fitting the grid search to the data\n",
        "gd_sr.fit(X_train_scaled, Y_train)\n",
        "\n",
        "# The best parameters retrieving and the best score for each metric\n",
        "best_parameters = gd_sr.best_params_\n",
        "best_precision = gd_sr.cv_results_['mean_test_precision'][gd_sr.best_index_]\n",
        "best_recall = gd_sr.cv_results_['mean_test_recall'][gd_sr.best_index_]\n",
        "best_f1 = gd_sr.cv_results_['mean_test_f1'][gd_sr.best_index_]\n",
        "\n",
        "# Printing the best parameters and the best scores\n",
        "print(f\"Best Parameters: {best_parameters}\")\n",
        "print(f\"Best Precision Score: {best_precision:.4f}\")\n",
        "print(f\"Best Recall Score: {best_recall:.4f}\")\n",
        "print(f\"Best F1 Score: {best_f1:.4f}\")\n",
        "\n",
        "# Getting feature importances from the best estimator\n",
        "best_estimator = gd_sr.best_estimator_.named_steps['classification']\n",
        "featimp = pd.Series(best_estimator.feature_importances_, index=X_train.columns).sort_values(ascending=False)\n",
        "print(featimp)\n"
      ]
    },
    {
      "cell_type": "code",
      "execution_count": null,
      "metadata": {
        "id": "JCjOKwco-RK0",
        "colab": {
          "base_uri": "https://localhost:8080/"
        },
        "outputId": "6a665d41-0b18-4e59-9934-2dcca6e1291b"
      },
      "outputs": [
        {
          "output_type": "stream",
          "name": "stdout",
          "text": [
            "Best Parameters: {'classification__n_estimators': 300}\n",
            "Best Precision Score: 0.9691\n",
            "Best Recall Score: 0.9403\n",
            "Best F1 Score: 0.9545\n"
          ]
        }
      ],
      "source": [
        "#RFC with important feature\n",
        "\n",
        "# Setting up the pipeline with SMOTE and RandomForestClassifier\n",
        "model = ImbPipeline([\n",
        "    ('balancing', SMOTE(random_state=101)),\n",
        "    ('classification', RandomForestClassifier(criterion='entropy', max_features='auto', random_state=1))\n",
        "])\n",
        "\n",
        "# Define the grid of parameters to search\n",
        "grid_param = {\n",
        "    'classification__n_estimators': [100, 200, 300]\n",
        "}\n",
        "\n",
        "# Scoring metrics defining\n",
        "scoring_metrics = {\n",
        "    'precision': 'precision',\n",
        "    'recall': 'recall',\n",
        "    'f1': 'f1'\n",
        "}\n",
        "\n",
        "# Setting up the grid search with cross-validation\n",
        "gd_sr = GridSearchCV(estimator=model, param_grid=grid_param, scoring=scoring_metrics, refit='f1', cv=5, return_train_score=True)\n",
        "\n",
        "# Fitting the grid search to the data\n",
        "gd_sr.fit(X_train_scaled, Y_train)\n",
        "\n",
        "# Retrieving the best parameters and the best score for each metric\n",
        "best_parameters = gd_sr.best_params_\n",
        "best_precision = gd_sr.cv_results_['mean_test_precision'][gd_sr.best_index_]\n",
        "best_recall = gd_sr.cv_results_['mean_test_recall'][gd_sr.best_index_]\n",
        "best_f1 = gd_sr.cv_results_['mean_test_f1'][gd_sr.best_index_]\n",
        "\n",
        "# Printing the best parameters and the best scores\n",
        "print(f\"Best Parameters: {best_parameters}\")\n",
        "print(f\"Best Precision Score: {best_precision:.4f}\")\n",
        "print(f\"Best Recall Score: {best_recall:.4f}\")\n",
        "print(f\"Best F1 Score: {best_f1:.4f}\")\n"
      ]
    },
    {
      "cell_type": "code",
      "execution_count": null,
      "metadata": {
        "id": "JqmkEBn_lNDg",
        "colab": {
          "base_uri": "https://localhost:8080/"
        },
        "outputId": "6d3fb452-d3fb-4616-d835-1d04a9c59059"
      },
      "outputs": [
        {
          "output_type": "stream",
          "name": "stdout",
          "text": [
            "Best Parameters: {'classification__C': 10}\n",
            "Best Precision Score: 0.8453\n",
            "Best Recall Score: 0.8543\n",
            "Best F1 Score: 0.8498\n"
          ]
        }
      ],
      "source": [
        "# Support Vector Classifier with LinearSVC\n",
        "model = ImbPipeline([\n",
        "    ('balancing', SMOTE(random_state=101)),\n",
        "    ('classification', LinearSVC(random_state=1, max_iter=10000))\n",
        "])\n",
        "\n",
        "# Defining the grid of parameters to search\n",
        "grid_param = {\n",
        "    'classification__C': [0.01, 0.1, 1, 10]\n",
        "}\n",
        "\n",
        "# Scoring metrics defining\n",
        "scoring_metrics = {\n",
        "    'precision': 'precision',\n",
        "    'recall': 'recall',\n",
        "    'f1': 'f1'\n",
        "}\n",
        "\n",
        "# Setting up the grid search with cross-validation\n",
        "gd_sr = GridSearchCV(estimator=model, param_grid=grid_param, scoring=scoring_metrics, refit='f1', cv=5, n_jobs=-1, return_train_score=True)\n",
        "\n",
        "# Fitting the grid search to the data\n",
        "gd_sr.fit(X_train_scaled, Y_train)\n",
        "\n",
        "# Retrieving the best parameters and the best score for each metric\n",
        "best_parameters = gd_sr.best_params_\n",
        "print(f\"Best Parameters: {best_parameters}\")\n",
        "\n",
        "best_precision = gd_sr.cv_results_['mean_test_precision'][gd_sr.best_index_]\n",
        "print(f\"Best Precision Score: {best_precision:.4f}\")\n",
        "\n",
        "best_recall = gd_sr.cv_results_['mean_test_recall'][gd_sr.best_index_]\n",
        "print(f\"Best Recall Score: {best_recall:.4f}\")\n",
        "\n",
        "best_f1 = gd_sr.cv_results_['mean_test_f1'][gd_sr.best_index_]\n",
        "print(f\"Best F1 Score: {best_f1:.4f}\")\n"
      ]
    },
    {
      "cell_type": "code",
      "execution_count": null,
      "metadata": {
        "id": "4SwTm69ZCrEE",
        "colab": {
          "base_uri": "https://localhost:8080/"
        },
        "outputId": "48d6df80-e892-4db5-90b5-f091a904a207"
      },
      "outputs": [
        {
          "output_type": "stream",
          "name": "stdout",
          "text": [
            "Best Parameters: {'classification__n_neighbors': 7}\n",
            "Best Precision: 0.9301\n",
            "Best Recall: 0.8997\n",
            "Best F1 Score: 0.9147\n"
          ]
        }
      ],
      "source": [
        "import pandas as pd\n",
        "from sklearn.model_selection import train_test_split\n",
        "from sklearn.preprocessing import StandardScaler\n",
        "from imblearn.over_sampling import SMOTE\n",
        "from sklearn.neighbors import KNeighborsClassifier\n",
        "from imblearn.pipeline import Pipeline as imblearnPipeline\n",
        "from sklearn.model_selection import GridSearchCV\n",
        "from sklearn.metrics import make_scorer, precision_score, recall_score, f1_score\n",
        "\n",
        "# Define the pipeline with SMOTE and KNN\n",
        "model = imblearnPipeline([\n",
        "    ('balancing', SMOTE(random_state=101)),\n",
        "    ('classification', KNeighborsClassifier())\n",
        "])\n",
        "\n",
        "# Define the grid of parameters to search\n",
        "grid_param = {\n",
        "    'classification__n_neighbors': [3, 5, 7]\n",
        "}\n",
        "\n",
        "# Define custom scoring dictionary\n",
        "scoring = {\n",
        "    'precision': make_scorer(precision_score),\n",
        "    'recall': make_scorer(recall_score),\n",
        "    'f1': make_scorer(f1_score)\n",
        "}\n",
        "\n",
        "# Set up the grid search with cross-validation\n",
        "gd_sr = GridSearchCV(estimator=model, param_grid=grid_param, scoring=scoring, cv=5, refit='f1')\n",
        "\n",
        "# Fit the model to the training data\n",
        "gd_sr.fit(X_train_scaled, Y_train)\n",
        "\n",
        "# Extract the best parameters and scores\n",
        "best_parameters_knn = gd_sr.best_params_\n",
        "best_precision_knn = gd_sr.cv_results_['mean_test_precision'][gd_sr.best_index_]\n",
        "best_recall_knn = gd_sr.cv_results_['mean_test_recall'][gd_sr.best_index_]\n",
        "best_f1_knn = gd_sr.cv_results_['mean_test_f1'][gd_sr.best_index_]\n",
        "\n",
        "# Output the results\n",
        "print(f\"Best Parameters: {best_parameters_knn}\")\n",
        "print(f\"Best Precision: {best_precision_knn:.4f}\")\n",
        "print(f\"Best Recall: {best_recall_knn:.4f}\")\n",
        "print(f\"Best F1 Score: {best_f1_knn:.4f}\")\n"
      ]
    }
  ],
  "metadata": {
    "colab": {
      "provenance": [],
      "include_colab_link": true
    },
    "kernelspec": {
      "display_name": "Python 3",
      "name": "python3"
    },
    "language_info": {
      "name": "python"
    }
  },
  "nbformat": 4,
  "nbformat_minor": 0
}